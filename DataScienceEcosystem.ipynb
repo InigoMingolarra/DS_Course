{
 "cells": [
  {
   "cell_type": "markdown",
   "id": "e2d13776-519d-4bcd-8c1c-45f7a582d870",
   "metadata": {},
   "source": [
    "# Data Science Tools and Ecosystem"
   ]
  },
  {
   "cell_type": "markdown",
   "id": "7819bf40-b790-4299-b250-bac351360baa",
   "metadata": {},
   "source": [
    "In this notebook, Data Science Tools and Ecosystem are summarized."
   ]
  },
  {
   "cell_type": "markdown",
   "id": "2496e590-9a84-42af-ae49-647fc13f641a",
   "metadata": {},
   "source": [
    "**Objectives**\n",
    "- Data Science Languages\n",
    "- Data Sciences Tools\n",
    "- Data Science Libraries\n",
    "- Application Programming Interfaces (APIs)"
   ]
  },
  {
   "cell_type": "markdown",
   "id": "dc00dfc1-e56e-4eab-99f6-7b631ded9f3c",
   "metadata": {},
   "source": [
    "Some of the popular languages that Data Scientists use are:\n",
    "1. R\n",
    "2. Python\n",
    "3. Julia\n"
   ]
  },
  {
   "cell_type": "markdown",
   "id": "488c6419-8d74-496c-bbf6-bdd910322198",
   "metadata": {
    "tags": []
   },
   "source": [
    "Some of the commonly used libraries used by Data Scientists include:\n",
    "1. Pandas\n",
    "1.  NumPy\n",
    "1.  Scikit-Learn"
   ]
  },
  {
   "cell_type": "markdown",
   "id": "eec179ca-83fd-469c-9dd3-6eb84c7bcdad",
   "metadata": {},
   "source": [
    "| Data Science Tools    |\n",
    "| -------- |\n",
    "| Jupyter Notebook  |\n",
    "| Jupyter Lab | \n",
    "| Rstudio   | "
   ]
  },
  {
   "cell_type": "markdown",
   "id": "61ad53c6-4c43-4b76-a601-0af6fb4f3428",
   "metadata": {},
   "source": [
    "### Below are a few examples of evaluating arithmetic expressions in Python."
   ]
  },
  {
   "cell_type": "code",
   "execution_count": 1,
   "id": "d04a3560-b5d5-4895-a3ce-ba41be403a95",
   "metadata": {
    "collapsed": true,
    "jupyter": {
     "outputs_hidden": true
    },
    "tags": []
   },
   "outputs": [
    {
     "data": {
      "text/plain": [
       "17"
      ]
     },
     "execution_count": 1,
     "metadata": {},
     "output_type": "execute_result"
    }
   ],
   "source": [
    "# This a simple arithmetic expression to mutiply then add integers\n",
    "(3*4)+5"
   ]
  },
  {
   "cell_type": "code",
   "execution_count": 2,
   "id": "a462a923-bf4f-4fb2-914e-6ce3d09bf361",
   "metadata": {
    "tags": []
   },
   "outputs": [
    {
     "data": {
      "text/plain": [
       "3.3333333333333335"
      ]
     },
     "execution_count": 2,
     "metadata": {},
     "output_type": "execute_result"
    }
   ],
   "source": [
    "# This will convert 200 minutes to hours by diving by 60.\n",
    "200/60"
   ]
  },
  {
   "cell_type": "markdown",
   "id": "f01bc688-555e-4ace-b38b-db28c87e2b89",
   "metadata": {},
   "source": [
    "## Author\n",
    "Iñigo Mingolarra Garaizar"
   ]
  }
 ],
 "metadata": {
  "kernelspec": {
   "display_name": "Python",
   "language": "python",
   "name": "conda-env-python-py"
  },
  "language_info": {
   "codemirror_mode": {
    "name": "ipython",
    "version": 3
   },
   "file_extension": ".py",
   "mimetype": "text/x-python",
   "name": "python",
   "nbconvert_exporter": "python",
   "pygments_lexer": "ipython3",
   "version": "3.7.12"
  }
 },
 "nbformat": 4,
 "nbformat_minor": 5
}
